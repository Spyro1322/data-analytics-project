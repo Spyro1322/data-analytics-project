{
 "cells": [
  {
   "cell_type": "markdown",
   "id": "6976e27e",
   "metadata": {},
   "source": [
    "# Setup - Install Libraries"
   ]
  },
  {
   "cell_type": "code",
   "execution_count": 1,
   "id": "ebc75103",
   "metadata": {},
   "outputs": [],
   "source": [
    "# Run the following commands once, in order to install libraries - DO NOT Uncomment this line.\n",
    "\n",
    "# Uncomment below lines\n",
    "\n",
    "# !pip3 install --upgrade pip\n",
    "# !pip install google-cloud-bigquery\n",
    "# !pip install pandas-gbq -U\n",
    "# !pip install db-dtypes\n",
    "# !pip install packaging --upgrade"
   ]
  },
  {
   "cell_type": "markdown",
   "id": "65d4156e",
   "metadata": {},
   "source": [
    "# Import libraries"
   ]
  },
  {
   "cell_type": "code",
   "execution_count": 2,
   "id": "d373d5b0",
   "metadata": {},
   "outputs": [
    {
     "name": "stdout",
     "output_type": "stream",
     "text": [
      "Libraries imported successfully\n"
     ]
    }
   ],
   "source": [
    "# Import libraries\n",
    "from google.cloud import bigquery\n",
    "import pandas as pd\n",
    "from pandas_gbq import to_gbq\n",
    "import os\n",
    "\n",
    "print('Libraries imported successfully')"
   ]
  },
  {
   "cell_type": "code",
   "execution_count": 3,
   "id": "99cf91a1",
   "metadata": {},
   "outputs": [],
   "source": [
    "# Set the environment variable for Google Cloud credentials\n",
    "# Place the path in which the .json file is located.\n",
    "\n",
    "# Example (if .json is located in the same directory with the notebook)\n",
    "# os.environ[\"GOOGLE_APPLICATION_CREDENTIALS\"] = \"at-arch-416714-6f9900ec7.json\"\n",
    "\n",
    "# -- YOUR CODE GOES BELOW THIS LINE\n",
    "os.environ[\"GOOGLE_APPLICATION_CREDENTIALS\"] = \"C:/Users/user/DataAnalytics/diesel-media-457308-t3-7831797de709.json\" # Edit path\n",
    "# -- YOUR CODE GOES ABOVE THIS LINE"
   ]
  },
  {
   "cell_type": "code",
   "execution_count": 4,
   "id": "8c81c194",
   "metadata": {},
   "outputs": [],
   "source": [
    "# Set your Google Cloud project ID and BigQuery dataset details\n",
    "\n",
    "# -- YOUR CODE GOES BELOW THIS\n",
    "\n",
    "project_id = 'diesel-media-457308-t3' # Edit with your project id\n",
    "dataset_id = 'staging_db' # Modify the necessary schema name: staging_db, reporting_db etc.\n",
    "table_id = 'stg_customer' # Modify the necessary table name: stg_customer, stg_city etc.\n",
    "\n",
    "# -- YOUR CODE GOES ABOVE THIS LINE"
   ]
  },
  {
   "cell_type": "markdown",
   "id": "a5b5e1a1",
   "metadata": {},
   "source": [
    "# SQL Query"
   ]
  },
  {
   "cell_type": "code",
   "execution_count": 7,
   "id": "81dd049c",
   "metadata": {},
   "outputs": [
    {
     "name": "stderr",
     "output_type": "stream",
     "text": [
      "C:\\Users\\user\\AppData\\Local\\Packages\\PythonSoftwareFoundation.Python.3.11_qbz5n2kfra8p0\\LocalCache\\local-packages\\Python311\\site-packages\\google\\cloud\\bigquery\\table.py:1933: UserWarning: BigQuery Storage module not found, fetch data with the REST endpoint instead.\n",
      "  warnings.warn(\n"
     ]
    },
    {
     "data": {
      "text/html": [
       "<div>\n",
       "<style scoped>\n",
       "    .dataframe tbody tr th:only-of-type {\n",
       "        vertical-align: middle;\n",
       "    }\n",
       "\n",
       "    .dataframe tbody tr th {\n",
       "        vertical-align: top;\n",
       "    }\n",
       "\n",
       "    .dataframe thead th {\n",
       "        text-align: right;\n",
       "    }\n",
       "</style>\n",
       "<table border=\"1\" class=\"dataframe\">\n",
       "  <thead>\n",
       "    <tr style=\"text-align: right;\">\n",
       "      <th></th>\n",
       "      <th>customer_id</th>\n",
       "      <th>is_active_customer_bool</th>\n",
       "      <th>is_active_customer</th>\n",
       "      <th>customer_store_id</th>\n",
       "      <th>customer_first_name</th>\n",
       "      <th>customer_last_name</th>\n",
       "      <th>customer_email</th>\n",
       "      <th>customer_address_id</th>\n",
       "      <th>customer_create_date</th>\n",
       "      <th>customer_last_update</th>\n",
       "    </tr>\n",
       "  </thead>\n",
       "  <tbody>\n",
       "    <tr>\n",
       "      <th>0</th>\n",
       "      <td>298</td>\n",
       "      <td>True</td>\n",
       "      <td>1</td>\n",
       "      <td>1</td>\n",
       "      <td>ERIKA</td>\n",
       "      <td>PENA</td>\n",
       "      <td>ERIKA.PENA@sakilacustomer.org</td>\n",
       "      <td>303</td>\n",
       "      <td>2022-02-14</td>\n",
       "      <td>2022-02-15 09:57:20+00:00</td>\n",
       "    </tr>\n",
       "    <tr>\n",
       "      <th>1</th>\n",
       "      <td>60</td>\n",
       "      <td>True</td>\n",
       "      <td>1</td>\n",
       "      <td>1</td>\n",
       "      <td>MILDRED</td>\n",
       "      <td>BAILEY</td>\n",
       "      <td>MILDRED.BAILEY@sakilacustomer.org</td>\n",
       "      <td>64</td>\n",
       "      <td>2022-02-14</td>\n",
       "      <td>2022-02-15 09:57:20+00:00</td>\n",
       "    </tr>\n",
       "    <tr>\n",
       "      <th>2</th>\n",
       "      <td>44</td>\n",
       "      <td>True</td>\n",
       "      <td>1</td>\n",
       "      <td>1</td>\n",
       "      <td>MARIE</td>\n",
       "      <td>TURNER</td>\n",
       "      <td>MARIE.TURNER@sakilacustomer.org</td>\n",
       "      <td>48</td>\n",
       "      <td>2022-02-14</td>\n",
       "      <td>2022-02-15 09:57:20+00:00</td>\n",
       "    </tr>\n",
       "    <tr>\n",
       "      <th>3</th>\n",
       "      <td>80</td>\n",
       "      <td>True</td>\n",
       "      <td>1</td>\n",
       "      <td>1</td>\n",
       "      <td>MARILYN</td>\n",
       "      <td>ROSS</td>\n",
       "      <td>MARILYN.ROSS@sakilacustomer.org</td>\n",
       "      <td>84</td>\n",
       "      <td>2022-02-14</td>\n",
       "      <td>2022-02-15 09:57:20+00:00</td>\n",
       "    </tr>\n",
       "    <tr>\n",
       "      <th>4</th>\n",
       "      <td>221</td>\n",
       "      <td>True</td>\n",
       "      <td>1</td>\n",
       "      <td>1</td>\n",
       "      <td>BESSIE</td>\n",
       "      <td>MORRISON</td>\n",
       "      <td>BESSIE.MORRISON@sakilacustomer.org</td>\n",
       "      <td>225</td>\n",
       "      <td>2022-02-14</td>\n",
       "      <td>2022-02-15 09:57:20+00:00</td>\n",
       "    </tr>\n",
       "  </tbody>\n",
       "</table>\n",
       "</div>"
      ],
      "text/plain": [
       "   customer_id  is_active_customer_bool  is_active_customer  \\\n",
       "0          298                     True                   1   \n",
       "1           60                     True                   1   \n",
       "2           44                     True                   1   \n",
       "3           80                     True                   1   \n",
       "4          221                     True                   1   \n",
       "\n",
       "   customer_store_id customer_first_name customer_last_name  \\\n",
       "0                  1               ERIKA               PENA   \n",
       "1                  1             MILDRED             BAILEY   \n",
       "2                  1               MARIE             TURNER   \n",
       "3                  1             MARILYN               ROSS   \n",
       "4                  1              BESSIE           MORRISON   \n",
       "\n",
       "                       customer_email  customer_address_id  \\\n",
       "0       ERIKA.PENA@sakilacustomer.org                  303   \n",
       "1   MILDRED.BAILEY@sakilacustomer.org                   64   \n",
       "2     MARIE.TURNER@sakilacustomer.org                   48   \n",
       "3     MARILYN.ROSS@sakilacustomer.org                   84   \n",
       "4  BESSIE.MORRISON@sakilacustomer.org                  225   \n",
       "\n",
       "  customer_create_date      customer_last_update  \n",
       "0           2022-02-14 2022-02-15 09:57:20+00:00  \n",
       "1           2022-02-14 2022-02-15 09:57:20+00:00  \n",
       "2           2022-02-14 2022-02-15 09:57:20+00:00  \n",
       "3           2022-02-14 2022-02-15 09:57:20+00:00  \n",
       "4           2022-02-14 2022-02-15 09:57:20+00:00  "
      ]
     },
     "execution_count": 7,
     "metadata": {},
     "output_type": "execute_result"
    }
   ],
   "source": [
    "# Create a BigQuery client\n",
    "client = bigquery.Client(project=project_id)\n",
    "\n",
    "# -- YOUR CODE GOES BELOW THIS LINE\n",
    "\n",
    "# Define your SQL query here\n",
    "query = \"\"\"\n",
    "with base as (\n",
    "  select *\n",
    "  from `diesel-media-457308-t3.pagila_productionpublic.customer` --Your table path\n",
    "  )\n",
    "\n",
    "  , final as (\n",
    "    select\n",
    "        customer_id\n",
    "        , activebool as is_active_customer_bool\n",
    "        , active as is_active_customer\n",
    "        , store_id as customer_store_id\n",
    "        , first_name as customer_first_name\n",
    "        , last_name as customer_last_name\n",
    "        , email as customer_email\n",
    "        , address_id as customer_address_id\n",
    "        , create_date as customer_create_date\n",
    "        , last_update as customer_last_update\n",
    "   FROM base\n",
    "  )\n",
    "\n",
    "  select * from final\n",
    "\"\"\"\n",
    "\n",
    "# -- YOUR CODE GOES ABOVE THIS LINE\n",
    "\n",
    "# Execute the query and store the result in a dataframe\n",
    "df = client.query(query).to_dataframe()\n",
    "\n",
    "# Explore some records\n",
    "df.head()"
   ]
  },
  {
   "cell_type": "markdown",
   "id": "4d03caf4",
   "metadata": {},
   "source": [
    "# Write to BigQuery"
   ]
  },
  {
   "cell_type": "code",
   "execution_count": 9,
   "id": "d9fe3be6",
   "metadata": {},
   "outputs": [],
   "source": [
    "# Define the full table ID\n",
    "full_table_id = f\"{project_id}.{dataset_id}.{table_id}\"\n",
    "\n",
    "# -- YOUR CODE GOES BELOW THIS LINE\n",
    "# Define table schema based on the project description\n",
    "\n",
    "schema = [\n",
    "    bigquery.SchemaField('customer_id', 'INTEGER'),\n",
    "    bigquery.SchemaField('customer_store_id', 'INTEGER'),\n",
    "    bigquery.SchemaField('customer_first_name', 'STRING'),\n",
    "    bigquery.SchemaField('customer_last_name', 'STRING'),\n",
    "    bigquery.SchemaField('customer_email', 'STRING'),\n",
    "    bigquery.SchemaField('customer_address_id', 'INTEGER'),\n",
    "    bigquery.SchemaField('is_active_customer_bool', 'BOOLEAN'),\n",
    "    bigquery.SchemaField('is_active_customer', 'INTEGER'),\n",
    "    bigquery.SchemaField('customer_create_date', 'DATE'),\n",
    "    bigquery.SchemaField('customer_last_update', 'DATETIME'),\n",
    "    ]\n",
    "\n",
    "# -- YOUR CODE GOES ABOVE THIS LINE"
   ]
  },
  {
   "cell_type": "code",
   "execution_count": 10,
   "id": "79feccac",
   "metadata": {},
   "outputs": [
    {
     "name": "stdout",
     "output_type": "stream",
     "text": [
      "Table diesel-media-457308-t3.staging_db.stg_customer did not exist. Created and data loaded.\n"
     ]
    }
   ],
   "source": [
    "# Create a BigQuery client\n",
    "client = bigquery.Client(project=project_id)\n",
    "\n",
    "# Check if the table exists\n",
    "def table_exists(client, full_table_id):\n",
    "    try:\n",
    "        client.get_table(full_table_id)\n",
    "        return True\n",
    "    except Exception:\n",
    "        return False\n",
    "\n",
    "# Write the dataframe to the table (overwrite if it exists, create if it doesn't)\n",
    "if table_exists(client, full_table_id):\n",
    "    # If the table exists, overwrite it\n",
    "    destination_table = f\"{dataset_id}.{table_id}\"\n",
    "    # Write the dataframe to the table (overwrite if it exists)\n",
    "    to_gbq(df, destination_table, project_id=project_id, if_exists='replace')\n",
    "    print(f\"Table {full_table_id} exists. Overwritten.\")\n",
    "else:\n",
    "    # If the table does not exist, create it\n",
    "    job_config = bigquery.LoadJobConfig(schema=schema)\n",
    "    job = client.load_table_from_dataframe(df, full_table_id, job_config=job_config)\n",
    "    job.result()  # Wait for the job to complete\n",
    "    print(f\"Table {full_table_id} did not exist. Created and data loaded.\")"
   ]
  },
  {
   "cell_type": "code",
   "execution_count": 1,
   "id": "47c79d3b",
   "metadata": {},
   "outputs": [
    {
     "name": "stderr",
     "output_type": "stream",
     "text": [
      "[NbConvertApp] Converting notebook stg_customer.ipynb to python\n",
      "[NbConvertApp] Writing 4603 bytes to stg_customer.py\n"
     ]
    }
   ],
   "source": [
    "# Below line converts your i.pynb file to .py python executable file. Modify the input and output names based\n",
    "# on the table you are processing.\n",
    "# Example:\n",
    "# ! jupyter nbconvert stg_customer.ipynb --to python\n",
    "\n",
    "# -- YOUR CODE GOES BELOW THIS LINE\n",
    "\n",
    "!python3 -m jupyter nbconvert stg_customer.ipynb --to python\n",
    "\n",
    "# -- YOUR CODE GOES ABOVE THIS LINE"
   ]
  },
  {
   "cell_type": "code",
   "execution_count": null,
   "id": "8d4bd43a",
   "metadata": {},
   "outputs": [],
   "source": []
  }
 ],
 "metadata": {
  "kernelspec": {
   "display_name": "Python 3",
   "language": "python",
   "name": "python3"
  },
  "language_info": {
   "codemirror_mode": {
    "name": "ipython",
    "version": 3
   },
   "file_extension": ".py",
   "mimetype": "text/x-python",
   "name": "python",
   "nbconvert_exporter": "python",
   "pygments_lexer": "ipython3",
   "version": "3.11.9"
  }
 },
 "nbformat": 4,
 "nbformat_minor": 5
}
