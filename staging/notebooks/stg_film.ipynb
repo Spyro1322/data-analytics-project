{
 "cells": [
  {
   "cell_type": "markdown",
   "id": "6976e27e",
   "metadata": {},
   "source": [
    "# Setup - Install Libraries"
   ]
  },
  {
   "cell_type": "code",
   "execution_count": 1,
   "id": "ebc75103",
   "metadata": {},
   "outputs": [],
   "source": [
    "# Run the following commands once, in order to install libraries - DO NOT Uncomment this line.\n",
    "\n",
    "# Uncomment below lines\n",
    "\n",
    "# !pip3 install --upgrade pip\n",
    "# !pip install google-cloud-bigquery\n",
    "# !pip install pandas-gbq -U\n",
    "# !pip install db-dtypes\n",
    "# !pip install packaging --upgrade"
   ]
  },
  {
   "cell_type": "markdown",
   "id": "65d4156e",
   "metadata": {},
   "source": [
    "# Import libraries"
   ]
  },
  {
   "cell_type": "code",
   "execution_count": 2,
   "id": "d373d5b0",
   "metadata": {},
   "outputs": [
    {
     "name": "stdout",
     "output_type": "stream",
     "text": [
      "Libraries imported successfully\n"
     ]
    }
   ],
   "source": [
    "# Import libraries\n",
    "from google.cloud import bigquery\n",
    "import pandas as pd\n",
    "from pandas_gbq import to_gbq\n",
    "import os\n",
    "\n",
    "print('Libraries imported successfully')"
   ]
  },
  {
   "cell_type": "code",
   "execution_count": 3,
   "id": "99cf91a1",
   "metadata": {},
   "outputs": [],
   "source": [
    "# Set the environment variable for Google Cloud credentials\n",
    "# Place the path in which the .json file is located.\n",
    "\n",
    "# Example (if .json is located in the same directory with the notebook)\n",
    "# os.environ[\"GOOGLE_APPLICATION_CREDENTIALS\"] = \"at-arch-416714-6f9900ec7.json\"\n",
    "\n",
    "# -- YOUR CODE GOES BELOW THIS LINE\n",
    "os.environ[\"GOOGLE_APPLICATION_CREDENTIALS\"] = \"C:/Users/user/DataAnalytics/diesel-media-457308-t3-7831797de709.json\" # Edit path\n",
    "# -- YOUR CODE GOES ABOVE THIS LINE"
   ]
  },
  {
   "cell_type": "code",
   "execution_count": 4,
   "id": "8c81c194",
   "metadata": {},
   "outputs": [],
   "source": [
    "# Set your Google Cloud project ID and BigQuery dataset details\n",
    "\n",
    "# -- YOUR CODE GOES BELOW THIS\n",
    "\n",
    "project_id = 'diesel-media-457308-t3' # Edit with your project id\n",
    "dataset_id = 'staging_db' # Modify the necessary schema name: staging_db, reporting_db etc.\n",
    "table_id = 'stg_film' # Modify the necessary table name: stg_customer, stg_city etc.\n",
    "\n",
    "# -- YOUR CODE GOES ABOVE THIS LINE"
   ]
  },
  {
   "cell_type": "markdown",
   "id": "a5b5e1a1",
   "metadata": {},
   "source": [
    "# SQL Query"
   ]
  },
  {
   "cell_type": "code",
   "execution_count": 8,
   "id": "81dd049c",
   "metadata": {},
   "outputs": [
    {
     "name": "stderr",
     "output_type": "stream",
     "text": [
      "C:\\Users\\user\\AppData\\Local\\Packages\\PythonSoftwareFoundation.Python.3.11_qbz5n2kfra8p0\\LocalCache\\local-packages\\Python311\\site-packages\\google\\cloud\\bigquery\\table.py:1933: UserWarning: BigQuery Storage module not found, fetch data with the REST endpoint instead.\n",
      "  warnings.warn(\n"
     ]
    },
    {
     "data": {
      "text/html": [
       "<div>\n",
       "<style scoped>\n",
       "    .dataframe tbody tr th:only-of-type {\n",
       "        vertical-align: middle;\n",
       "    }\n",
       "\n",
       "    .dataframe tbody tr th {\n",
       "        vertical-align: top;\n",
       "    }\n",
       "\n",
       "    .dataframe thead th {\n",
       "        text-align: right;\n",
       "    }\n",
       "</style>\n",
       "<table border=\"1\" class=\"dataframe\">\n",
       "  <thead>\n",
       "    <tr style=\"text-align: right;\">\n",
       "      <th></th>\n",
       "      <th>film_id</th>\n",
       "      <th>film_title</th>\n",
       "      <th>film_description</th>\n",
       "      <th>film_language_id</th>\n",
       "      <th>film_original_language_id</th>\n",
       "      <th>film_rental_duration</th>\n",
       "      <th>film_rental_rate</th>\n",
       "      <th>film_length</th>\n",
       "      <th>film_replacement_cost</th>\n",
       "      <th>film_rating</th>\n",
       "      <th>film_last_update</th>\n",
       "      <th>film_special_features</th>\n",
       "      <th>film_fulltext</th>\n",
       "    </tr>\n",
       "  </thead>\n",
       "  <tbody>\n",
       "    <tr>\n",
       "      <th>0</th>\n",
       "      <td>653</td>\n",
       "      <td>PANIC CLUB</td>\n",
       "      <td>A Fanciful Display of a Teacher And a Crocodil...</td>\n",
       "      <td>1</td>\n",
       "      <td>&lt;NA&gt;</td>\n",
       "      <td>3</td>\n",
       "      <td>4.990000000</td>\n",
       "      <td>102</td>\n",
       "      <td>15.990000000</td>\n",
       "      <td>G</td>\n",
       "      <td>2022-09-10 16:46:03.905795+00:00</td>\n",
       "      <td>[\"Commentaries\",\"Deleted Scenes\"]</td>\n",
       "      <td>'baloon':19 'club':2 'crocodil':11 'display':5...</td>\n",
       "    </tr>\n",
       "    <tr>\n",
       "      <th>1</th>\n",
       "      <td>156</td>\n",
       "      <td>CLERKS ANGELS</td>\n",
       "      <td>A Thrilling Display of a Sumo Wrestler And a G...</td>\n",
       "      <td>1</td>\n",
       "      <td>&lt;NA&gt;</td>\n",
       "      <td>3</td>\n",
       "      <td>4.990000000</td>\n",
       "      <td>164</td>\n",
       "      <td>15.990000000</td>\n",
       "      <td>G</td>\n",
       "      <td>2022-09-10 16:46:03.905795+00:00</td>\n",
       "      <td>[\"Commentaries\"]</td>\n",
       "      <td>'angel':2 'baloon':20 'clerk':1 'confront':15 ...</td>\n",
       "    </tr>\n",
       "    <tr>\n",
       "      <th>2</th>\n",
       "      <td>25</td>\n",
       "      <td>ANGELS LIFE</td>\n",
       "      <td>A Thoughtful Display of a Woman And a Astronau...</td>\n",
       "      <td>1</td>\n",
       "      <td>&lt;NA&gt;</td>\n",
       "      <td>3</td>\n",
       "      <td>2.990000000</td>\n",
       "      <td>74</td>\n",
       "      <td>15.990000000</td>\n",
       "      <td>G</td>\n",
       "      <td>2022-09-10 16:46:03.905795+00:00</td>\n",
       "      <td>[\"Trailers\"]</td>\n",
       "      <td>'angel':1 'astronaut':11 'battl':14 'berlin':1...</td>\n",
       "    </tr>\n",
       "    <tr>\n",
       "      <th>3</th>\n",
       "      <td>960</td>\n",
       "      <td>WARS PLUTO</td>\n",
       "      <td>A Taut Reflection of a Teacher And a Database ...</td>\n",
       "      <td>1</td>\n",
       "      <td>&lt;NA&gt;</td>\n",
       "      <td>5</td>\n",
       "      <td>2.990000000</td>\n",
       "      <td>128</td>\n",
       "      <td>15.990000000</td>\n",
       "      <td>G</td>\n",
       "      <td>2022-09-10 16:46:03.905795+00:00</td>\n",
       "      <td>[\"Commentaries\",\"Behind the Scenes\"]</td>\n",
       "      <td>'administr':12 'chase':15 'databas':11 'desert...</td>\n",
       "    </tr>\n",
       "    <tr>\n",
       "      <th>4</th>\n",
       "      <td>43</td>\n",
       "      <td>ATLANTIS CAUSE</td>\n",
       "      <td>A Thrilling Yarn of a Feminist And a Hunter wh...</td>\n",
       "      <td>1</td>\n",
       "      <td>&lt;NA&gt;</td>\n",
       "      <td>6</td>\n",
       "      <td>2.990000000</td>\n",
       "      <td>170</td>\n",
       "      <td>15.990000000</td>\n",
       "      <td>G</td>\n",
       "      <td>2022-09-10 16:46:03.905795+00:00</td>\n",
       "      <td>[\"Behind the Scenes\"]</td>\n",
       "      <td>'atlanti':1 'caus':2 'feminist':8 'fight':14 '...</td>\n",
       "    </tr>\n",
       "  </tbody>\n",
       "</table>\n",
       "</div>"
      ],
      "text/plain": [
       "   film_id      film_title                                   film_description  \\\n",
       "0      653      PANIC CLUB  A Fanciful Display of a Teacher And a Crocodil...   \n",
       "1      156   CLERKS ANGELS  A Thrilling Display of a Sumo Wrestler And a G...   \n",
       "2       25     ANGELS LIFE  A Thoughtful Display of a Woman And a Astronau...   \n",
       "3      960      WARS PLUTO  A Taut Reflection of a Teacher And a Database ...   \n",
       "4       43  ATLANTIS CAUSE  A Thrilling Yarn of a Feminist And a Hunter wh...   \n",
       "\n",
       "   film_language_id  film_original_language_id  film_rental_duration  \\\n",
       "0                 1                       <NA>                     3   \n",
       "1                 1                       <NA>                     3   \n",
       "2                 1                       <NA>                     3   \n",
       "3                 1                       <NA>                     5   \n",
       "4                 1                       <NA>                     6   \n",
       "\n",
       "  film_rental_rate  film_length film_replacement_cost film_rating  \\\n",
       "0      4.990000000          102          15.990000000           G   \n",
       "1      4.990000000          164          15.990000000           G   \n",
       "2      2.990000000           74          15.990000000           G   \n",
       "3      2.990000000          128          15.990000000           G   \n",
       "4      2.990000000          170          15.990000000           G   \n",
       "\n",
       "                  film_last_update                 film_special_features  \\\n",
       "0 2022-09-10 16:46:03.905795+00:00     [\"Commentaries\",\"Deleted Scenes\"]   \n",
       "1 2022-09-10 16:46:03.905795+00:00                      [\"Commentaries\"]   \n",
       "2 2022-09-10 16:46:03.905795+00:00                          [\"Trailers\"]   \n",
       "3 2022-09-10 16:46:03.905795+00:00  [\"Commentaries\",\"Behind the Scenes\"]   \n",
       "4 2022-09-10 16:46:03.905795+00:00                 [\"Behind the Scenes\"]   \n",
       "\n",
       "                                       film_fulltext  \n",
       "0  'baloon':19 'club':2 'crocodil':11 'display':5...  \n",
       "1  'angel':2 'baloon':20 'clerk':1 'confront':15 ...  \n",
       "2  'angel':1 'astronaut':11 'battl':14 'berlin':1...  \n",
       "3  'administr':12 'chase':15 'databas':11 'desert...  \n",
       "4  'atlanti':1 'caus':2 'feminist':8 'fight':14 '...  "
      ]
     },
     "execution_count": 8,
     "metadata": {},
     "output_type": "execute_result"
    }
   ],
   "source": [
    "# Create a BigQuery client\n",
    "client = bigquery.Client(project=project_id)\n",
    "\n",
    "# -- YOUR CODE GOES BELOW THIS LINE\n",
    "\n",
    "# Define your SQL query here\n",
    "query = \"\"\"\n",
    "with base as (\n",
    "  select *\n",
    "  from `diesel-media-457308-t3.pagila_productionpublic.film` --Your table path\n",
    "  )\n",
    "\n",
    "  , final as (\n",
    "    select\n",
    "        film_id\n",
    "        , title as film_title\n",
    "        , description as film_description\n",
    "        , language_id as film_language_id\n",
    "        , original_language_id as film_original_language_id\n",
    "        , rental_duration as film_rental_duration\n",
    "        , rental_rate as film_rental_rate\n",
    "        , length as film_length\n",
    "        , replacement_cost as film_replacement_cost\n",
    "        , rating as film_rating\n",
    "        , last_update as film_last_update\n",
    "        , special_features as film_special_features\n",
    "        , fulltext as film_fulltext\n",
    "   FROM base\n",
    "  )\n",
    "\n",
    "  select * from final\n",
    "\"\"\"\n",
    "\n",
    "# -- YOUR CODE GOES ABOVE THIS LINE\n",
    "\n",
    "# Execute the query and store the result in a dataframe\n",
    "df = client.query(query).to_dataframe()\n",
    "\n",
    "# Explore some records\n",
    "df.head()"
   ]
  },
  {
   "cell_type": "markdown",
   "id": "4d03caf4",
   "metadata": {},
   "source": [
    "# Write to BigQuery"
   ]
  },
  {
   "cell_type": "code",
   "execution_count": 11,
   "id": "d9fe3be6",
   "metadata": {},
   "outputs": [],
   "source": [
    "# Define the full table ID\n",
    "full_table_id = f\"{project_id}.{dataset_id}.{table_id}\"\n",
    "\n",
    "# -- YOUR CODE GOES BELOW THIS LINE\n",
    "# Define table schema based on the project description\n",
    "\n",
    "schema = [\n",
    "    bigquery.SchemaField('film_id', 'INTEGER'),\n",
    "    bigquery.SchemaField('film_title', 'STRING'),\n",
    "    bigquery.SchemaField('film_description', 'STRING'),\n",
    "    bigquery.SchemaField('film_language_id', 'INTEGER'),\n",
    "    bigquery.SchemaField('film_original_language_id', 'INTEGER'),\n",
    "    bigquery.SchemaField('film_rental_duration', 'INTEGER'),\n",
    "    bigquery.SchemaField('film_rental_rate', 'NUMERIC'),\n",
    "    bigquery.SchemaField('film_length', 'INTEGER'),\n",
    "    bigquery.SchemaField('film_replacement_cost', 'NUMERIC'),\n",
    "    bigquery.SchemaField('film_rating', 'STRING'),\n",
    "    bigquery.SchemaField('film_last_update', 'DATETIME'),\n",
    "    bigquery.SchemaField('film_special_features', 'STRING'),\n",
    "    bigquery.SchemaField('film_fulltext', 'STRING'),\n",
    "    ]\n",
    "\n",
    "# -- YOUR CODE GOES ABOVE THIS LINE"
   ]
  },
  {
   "cell_type": "code",
   "execution_count": 12,
   "id": "79feccac",
   "metadata": {},
   "outputs": [
    {
     "name": "stdout",
     "output_type": "stream",
     "text": [
      "Table diesel-media-457308-t3.staging_db.stg_film did not exist. Created and data loaded.\n"
     ]
    }
   ],
   "source": [
    "# Create a BigQuery client\n",
    "client = bigquery.Client(project=project_id)\n",
    "\n",
    "# Check if the table exists\n",
    "def table_exists(client, full_table_id):\n",
    "    try:\n",
    "        client.get_table(full_table_id)\n",
    "        return True\n",
    "    except Exception:\n",
    "        return False\n",
    "\n",
    "# Write the dataframe to the table (overwrite if it exists, create if it doesn't)\n",
    "if table_exists(client, full_table_id):\n",
    "    # If the table exists, overwrite it\n",
    "    destination_table = f\"{dataset_id}.{table_id}\"\n",
    "    # Write the dataframe to the table (overwrite if it exists)\n",
    "    to_gbq(df, destination_table, project_id=project_id, if_exists='replace')\n",
    "    print(f\"Table {full_table_id} exists. Overwritten.\")\n",
    "else:\n",
    "    # If the table does not exist, create it\n",
    "    job_config = bigquery.LoadJobConfig(schema=schema)\n",
    "    job = client.load_table_from_dataframe(df, full_table_id, job_config=job_config)\n",
    "    job.result()  # Wait for the job to complete\n",
    "    print(f\"Table {full_table_id} did not exist. Created and data loaded.\")"
   ]
  },
  {
   "cell_type": "code",
   "execution_count": 13,
   "id": "47c79d3b",
   "metadata": {},
   "outputs": [
    {
     "name": "stderr",
     "output_type": "stream",
     "text": [
      "[NbConvertApp] Converting notebook stg_film.ipynb to python\n",
      "[NbConvertApp] Writing 5020 bytes to stg_film.py\n"
     ]
    }
   ],
   "source": [
    "# Below line converts your i.pynb file to .py python executable file. Modify the input and output names based\n",
    "# on the table you are processing.\n",
    "# Example:\n",
    "# ! jupyter nbconvert stg_customer.ipynb --to python\n",
    "\n",
    "# -- YOUR CODE GOES BELOW THIS LINE\n",
    "\n",
    "!python3 -m jupyter nbconvert stg_film.ipynb --to python\n",
    "\n",
    "# -- YOUR CODE GOES ABOVE THIS LINE"
   ]
  },
  {
   "cell_type": "code",
   "execution_count": null,
   "id": "8d4bd43a",
   "metadata": {},
   "outputs": [],
   "source": []
  }
 ],
 "metadata": {
  "kernelspec": {
   "display_name": "Python 3",
   "language": "python",
   "name": "python3"
  },
  "language_info": {
   "codemirror_mode": {
    "name": "ipython",
    "version": 3
   },
   "file_extension": ".py",
   "mimetype": "text/x-python",
   "name": "python",
   "nbconvert_exporter": "python",
   "pygments_lexer": "ipython3",
   "version": "3.11.9"
  }
 },
 "nbformat": 4,
 "nbformat_minor": 5
}
